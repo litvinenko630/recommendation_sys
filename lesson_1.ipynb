{
 "cells": [
  {
   "cell_type": "markdown",
   "id": "40a0091d",
   "metadata": {},
   "source": [
    "# Домашнее задание \n",
    " \n"
   ]
  },
  {
   "cell_type": "markdown",
   "id": "a1e52096",
   "metadata": {},
   "source": [
    " "
   ]
  },
  {
   "cell_type": "markdown",
   "id": "9af71d9a",
   "metadata": {},
   "source": [
    "1. Приведите еще примеры метрик для оценки рекомендаций/ранжирования (можно взять из интернета, или ваши знания)\n",
    "\n",
    "2. Доделать все функции, где стоит комментарий \"сделать дома\""
   ]
  },
  {
   "cell_type": "markdown",
   "id": "393145d3",
   "metadata": {},
   "source": [
    "### 1. Приведите еще примеры метрик для оценки рекомендаций/ранжирования (можно взять из интернета, или ваши знания)"
   ]
  },
  {
   "cell_type": "markdown",
   "id": "afa1f297",
   "metadata": {},
   "source": [
    "#### 1. **Precision@K (точность@K)**: Это метрика, которая измеряет долю релевантных элементов среди топ-K рекомендаций. \n",
    "\n",
    "Формула: $$ \\text{Precision@K} = \\frac{\\text{Количество релевантных элементов в топ-K}}{K} $$\n",
    "\n",
    "#### 2. **Recall@K (полнота@K)**: Эта метрика измеряет долю релевантных элементов, найденных в топ-K рекомендаций среди всех релевантных элементов. \n",
    "\n",
    "Формула: $$ \\text{Recall@K} = \\frac{\\text{Количество релевантных элементов в топ-K}}{\\text{Общее количество релевантных элементов}} $$\n",
    "\n",
    "#### 3. **F-мера (F-score или F-measure)** - это взвешенное гармоническое среднее между точностью (precision) и полнотой (recall) в задачах классификации и оценке моделей.\n",
    "\n",
    "Формула для вычисления F-меры с использованием коэффициента β:\n",
    "\n",
    "$$ F_\\beta = \\frac{(1 + \\beta^2) \\cdot (\\text{precision} \\cdot \\text{recall})}{(\\beta^2 \\cdot \\text{precision} + \\text{recall})} $$\n",
    "\n",
    "- Когда β = 1, это соответствует F1-мере, так как точность и полнота имеют одинаковый вес.\n",
    "- Когда β > 1 (например, β = 2 для F2-меры), полнота важнее точности.\n",
    "- Когда 0 < β < 1 (например, β = 0.5 для F0.5-меры), точность важнее полноты.\n",
    "\n",
    "__*Эта метрика позволяет учесть важность точности и полноты в зависимости от конкретных требований задачи. Высокое значение F-меры указывает на хороший баланс между точностью и полнотой.*__\n",
    "\n",
    "\n",
    "#### 4. **NDCG@K (Normalized Discounted Cumulative Gain)**: Это метрика, которая учитывает не только наличие релевантных элементов в топ-K рекомендациях, но и их порядок ранжирования. Она предполагает, что релевантность убывает с увеличением позиции. Чем больше NDCG@K, тем лучше ранжирование. \n",
    "\n",
    "Формула: $$ \\text{NDCG@K} = \\frac{DCG@K}{IDCG@K},\\ где\\ DCG@K\\ -\\ discounted\\ cumulative\\ gain\\ для\\ топ-K\\ элементов,\\ \n",
    "а\\ IDCG@K\\ -\\ ideal\\ discounted\\ cumulative\\ gain,\\ который\\ представляет\\ собой\\ максимально\\ возможное\\ значение\\ DCG@K$$.\n",
    "\n",
    "#### 5. **AP@k - average precision at k** - это метрика, используемая для оценки качества в ранжировании и рекомендательных системах. Она измеряет среднюю точность (precision) в топ-K рекомендаций.\n",
    "\n",
    "Формула: $$AP@k = \\frac{1}{r} \\sum{[recommended_{relevant_i}] * precision@k}$$ \n",
    "\n",
    "- r - кол-во релевантных среди рекомендованных\n",
    "- Суммируем по всем релевантным товарам\n",
    "- Зависит от порядка рекомендаций\n",
    "\n",
    "\n",
    "#### 6. **MAP@K (Mean Average Precision)**: Это метрика, которая усредняет значения precision@k для всех пользователей. Precision@K - это точность в топ-K рекомендациях для каждого пользователя, а MAP@K - среднее значение precision@K по всем пользователям.\n",
    "\n",
    "Формула: $$MAP@k = \\frac{1}{|U|} \\sum_u{AP_k}$$\n",
    "  \n",
    "|U| - кол-во юзеров\n",
    "\n",
    "#### 7. **MRR@k (Mean Reciprocal Rank)**: Это метрика, используемая для оценки качества в ранжировании информационного поиска, рекомендательных системах и других задачах, где необходимо ранжировать элементы по их релевантности для пользователя. \n",
    " \n",
    " MRR вычисляет среднее значение обратных значений рангов первого релевантного элемента в топ-рекомендациях для каждого запроса или пользователя. Другими словами, MRR оценивает, как быстро модель находит первый релевантный элемент для каждого запроса.\n",
    "\n",
    "\n",
    "- Считаем для первых k рекоммендаций\n",
    "- Найти ранк первого релевантного предсказания $k_u$\n",
    "- Посчитать reciprocal rank = $\\frac{1}{k_u}$\n",
    "\n",
    "$$\\text{MRR} = \\frac{1}{|Q|} \\sum_{i=1}^{|Q|} \\frac{1}{\\text{rank}_i}$$\n",
    "\n",
    "\n",
    "Где:\n",
    "$$\\begin{align*}\n",
    "|Q| & - \\text{общее количество запросов или пользователей.} \\\\\n",
    "\\end{align*}$$\n",
    "\n",
    "\n",
    "$$\\begin{align*}\n",
    "\\text{rank}_i & \\text{- ранг первого релевантного элемента для запроса или пользователя}\\ i.\n",
    "\\end{align*}$$\n",
    "\n",
    "*Если ни один из элементов не является релевантным, ранг принимается как бесконечность.*\n",
    "\n",
    "__*Высокое значение MRR указывает на то, что релевантные элементы часто находятся в начале списка рекомендаций. MRR полезен, когда важен не только факт наличия релевантных элементов, но и их порядок в ранжированном списке. Чем выше MRR, тем лучше модель ранжирования или рекомендации.*__\n",
    "\n",
    "\n",
    "\n",
    "#### 8. **Spearman Rank Correlation Coefficient**: Это метрика, которая оценивает степень линейной зависимости между реальными и предсказанными рангами элементов. Она измеряет согласованность порядка ранжирования.\n",
    "\n",
    "Формула: \n",
    "$$\\rho = 1 - \\frac{6\\sum d_i^2}{n(n^2 - 1)},\\ где\\ d_i\\ -\\ это\\ разность\\ между\\ рангами\\ переменных\\ X\\ и\\ Y\\ для\\ каждого\\ наблюдения,\\ и\\ n\\ -\\ общее\\ количество\\ наблюдений.$$\n",
    "\n",
    "Эта формула вычисляет коэффициент корреляции Спирмена, который может принимать значения от -1 до 1. Значение 1 означает идеально возрастающую связь между рангами переменных, 0 - отсутствие связи, а -1 - идеально убывающую связь.\n",
    "\n",
    "\n",
    "Эти метрики предоставляют различные способы измерения качества рекомендательных систем и ранжирования и могут быть использованы в зависимости от конкретного контекста и целей вашего проекта."
   ]
  },
  {
   "cell_type": "code",
   "execution_count": 21,
   "id": "f8ac6287",
   "metadata": {},
   "outputs": [
    {
     "name": "stdout",
     "output_type": "stream",
     "text": [
      "Spearman's Rank Correlation Coefficient: 0.9999999999999999\n"
     ]
    }
   ],
   "source": [
    "# Spearman Rank Correlation Coefficient\n",
    "\n",
    "from scipy.stats import spearmanr\n",
    "\n",
    "# Пример данных\n",
    "x = [1, 2, 3, 4, 5]\n",
    "y = [2, 4, 6, 8, 10]\n",
    "\n",
    "# Вычисление коэффициента корреляции Спирмена\n",
    "correlation, p_value = spearmanr(x, y)\n",
    "print(f\"Spearman's Rank Correlation Coefficient: {correlation}\")\n"
   ]
  },
  {
   "cell_type": "markdown",
   "id": "02d239e9",
   "metadata": {},
   "source": [
    "### 2. Доделать все функции, где стоит комментарий \"сделать дома\""
   ]
  },
  {
   "cell_type": "code",
   "execution_count": 108,
   "id": "ecb2fda0",
   "metadata": {},
   "outputs": [],
   "source": [
    "# Импорт библиотек\n",
    "import pandas as pd\n",
    "import numpy as np"
   ]
  },
  {
   "cell_type": "markdown",
   "id": "207ecfbd",
   "metadata": {},
   "source": [
    "### 1. Hit rate\n",
    "\n",
    "Hit rate = был ли хотя бы 1 релевантный товар среди рекомендованных\n",
    "\n",
    "__*Иногда применяется, когда продаются достаточно дорогие товары (например, бытовая техника)*__\n",
    "\n",
    "*Hit rate = (был ли хотя бы 1 релевантный товар среди рекомендованных)*\n",
    "\n",
    "*Hit rate@k = (был ли хотя бы 1 релевантный товар среди топ-k рекомендованных)*\n",
    "___"
   ]
  },
  {
   "cell_type": "code",
   "execution_count": 39,
   "id": "57bf76cc",
   "metadata": {},
   "outputs": [],
   "source": [
    "# Функция для расчета попадания рекомендаций в покупки\n",
    "def hit_rate(recommended_list, bought_list):\n",
    "    # Преобразование списка покупок в массив numpy\n",
    "    bought_list = np.array(bought_list)\n",
    "    \n",
    "    # Преобразование списка рекомендаций в массив numpy\n",
    "    recommended_list = np.array(recommended_list)\n",
    "    \n",
    "    # Создание массива флагов, показывающих, содержатся ли элементы bought_list в recommended_list\n",
    "    flags = np.isin(bought_list, recommended_list)\n",
    "    \n",
    "    # Вычисление попадания (1, если есть совпадение, иначе 0)\n",
    "    hit_rate = (flags.sum() > 0) * 1\n",
    "    \n",
    "    # Возвращение значения попадания\n",
    "    return hit_rate\n",
    "\n",
    "# Функция для расчета попадания рекомендаций в покупки с учетом k элементов\n",
    "def hit_rate_at_k(recommended_list, bought_list, k=5):\n",
    "    # Вызов функции hit_rate, передавая первые k элементов recommended_list и bought_list\n",
    "    return hit_rate(recommended_list[:k], bought_list)\n"
   ]
  },
  {
   "cell_type": "code",
   "execution_count": 42,
   "id": "be151e25",
   "metadata": {},
   "outputs": [],
   "source": [
    "recommended_list = [143, 523, 11341, 991, 27, 10, 3345, 533, 11, 43]\n",
    "bought_list = [1430, 5230, 1134, 9910, 10, 2, 27]"
   ]
  },
  {
   "cell_type": "code",
   "execution_count": 43,
   "id": "b5063fef",
   "metadata": {},
   "outputs": [
    {
     "data": {
      "text/plain": [
       "1"
      ]
     },
     "execution_count": 43,
     "metadata": {},
     "output_type": "execute_result"
    }
   ],
   "source": [
    "hit_rate_at_k(recommended_list, bought_list, k=5)"
   ]
  },
  {
   "cell_type": "markdown",
   "id": "4fc7c088",
   "metadata": {},
   "source": [
    "### 2. Precision\n",
    "\n",
    "*Precision* - доля релевантных товаров среди рекомендованных = Какой % рекомендованных товаров  юзер купил\n",
    "\n",
    "__*Пожалуй, самая приближенная к бизнес-метрикам и самая популярная метрика*__\n",
    "\n",
    "---\n",
    "\n",
    "Precision= (# of recommended items that are relevant) / (# of recommended items)  \n",
    "\n",
    "Precision@k = (# of recommended items @k that are relevant) / (# of recommended items @k)\n",
    "\n",
    "Money Precision@k = (revenue of recommended items @k that are relevant) / (revenue of recommended items @k)  \n",
    "\n",
    "**Note:** Обычно k в precision@k достаточно невелико (5-20) и определяется из бизнес-логики. Например, 5 товаров в e-mail рассылке, 20 ответов на первой странице google и т.д"
   ]
  },
  {
   "cell_type": "code",
   "execution_count": 44,
   "id": "f7f19015",
   "metadata": {},
   "outputs": [],
   "source": [
    "recommended_list = [143, 156, 1134, 991, 27, 1543, 3345, 533, 11, 43] #id товаров\n",
    "bought_list = [521, 32, 143, 991, 27]\n",
    "prices_recommended = [400, 60, 40, 40 , 90]"
   ]
  },
  {
   "cell_type": "code",
   "execution_count": 49,
   "id": "cebedbea",
   "metadata": {},
   "outputs": [],
   "source": [
    "# Функция для расчета precision (точности) рекомендаций\n",
    "def precision(recommended_list, bought_list):\n",
    "    # Преобразование списка покупок в массив numpy\n",
    "    bought_list = np.array(bought_list)\n",
    "    \n",
    "    # Преобразование списка рекомендаций в массив numpy\n",
    "    recommended_list = np.array(recommended_list)\n",
    "    \n",
    "    # Создание массива флагов, показывающих, содержатся ли элементы bought_list в recommended_list\n",
    "    flags = np.isin(bought_list, recommended_list)\n",
    "    \n",
    "    # Вычисление precision как отношение числа попаданий к общему числу рекомендаций\n",
    "    precision = flags.sum() / len(recommended_list)\n",
    "    \n",
    "    # Возвращение значения precision\n",
    "    return precision\n",
    "\n",
    "\n",
    "# Функция для расчета precision_at_k (точности для k элементов) рекомендаций\n",
    "def precision_at_k(recommended_list, bought_list, k=5):\n",
    "    # Вызов функции precision, передавая первые k элементов recommended_list и bought_list\n",
    "    return precision(recommended_list[:k], bought_list)\n",
    "\n",
    "\n",
    "# Функция для расчета money_precision_at_k (точности для k элементов с учетом цен) рекомендаций\n",
    "def money_precision_at_k(recommended_list, bought_list, prices_recommended, k=5):\n",
    "    # Ограничение списка рекомендаций до первых k элементов\n",
    "    recommended_list = np.array(recommended_list)[:k]\n",
    "    \n",
    "    # Преобразование списка покупок в массив numpy\n",
    "    bought_list = np.array(bought_list)\n",
    "    \n",
    "    # Создание массива флагов, показывающих, содержатся ли элементы bought_list в recommended_list\n",
    "    flags = np.isin(bought_list, recommended_list)\n",
    "    \n",
    "    # Вычисление money_precision_at_k как скалярного произведения флагов и цен рекомендаций,\n",
    "    # деленного на сумму цен рекомендаций\n",
    "    mon_precision_at_k = np.dot(flags, prices_recommended[:len(bought_list)]) / np.sum(prices_recommended)\n",
    "    \n",
    "    # Возвращение значения money_precision_at_k\n",
    "    return mon_precision_at_k\n"
   ]
  },
  {
   "cell_type": "code",
   "execution_count": 50,
   "id": "4a423571",
   "metadata": {},
   "outputs": [
    {
     "data": {
      "text/plain": [
       "0.2698412698412698"
      ]
     },
     "execution_count": 50,
     "metadata": {},
     "output_type": "execute_result"
    }
   ],
   "source": [
    "money_precision_at_k(recommended_list, bought_list, prices_recommended, k=5)"
   ]
  },
  {
   "cell_type": "markdown",
   "id": "289e81f5",
   "metadata": {},
   "source": [
    "### 3. Recall\n",
    "\n",
    "*Recall* - доля рекомендованных товаров среди релевантных = Какой % купленных товаров был среди рекомендованных\n",
    "\n",
    "__*Обычно используется для моделей пре-фильтрации товаров (убрать те товары, которые точно не будем рекомендовать)*__\n",
    "\n",
    "---\n",
    "\n",
    "Recall= (# of recommended items that are relevant) / (# of relevant items)  \n",
    "\n",
    "Recall@k = (# of recommended items @k that are relevant) / (# of relevant items)\n",
    "\n",
    "Money Recall@k = (revenue of recommended items @k that are relevant) / (revenue of relevant items)  \n",
    "\n",
    "    \n",
    "  \n",
    "**Note:** в recall@k число k обычно достаточно большое (50-200), больше чем покупок у среднестатистического юзера"
   ]
  },
  {
   "cell_type": "code",
   "execution_count": 51,
   "id": "83e83d22",
   "metadata": {},
   "outputs": [],
   "source": [
    "recommended_list = [143, 156, 1134, 991, 27, 1543, 3345, 533, 11, 43] #id товаров\n",
    "bought_list =      [521, 32, 143, 991, 23]\n",
    "prices_recommended = [521, 32, 143, 991, 23]"
   ]
  },
  {
   "cell_type": "code",
   "execution_count": 52,
   "id": "db67aec3",
   "metadata": {},
   "outputs": [],
   "source": [
    "# Функция для расчета recall (полноты) рекомендаций\n",
    "def recall(recommended_list, bought_list):\n",
    "    # Преобразование списка покупок в массив numpy\n",
    "    bought_list = np.array(bought_list)\n",
    "    \n",
    "    # Преобразование списка рекомендаций в массив numpy\n",
    "    recommended_list = np.array(recommended_list)\n",
    "    \n",
    "    # Поиск совпадений в списках\n",
    "    flags = np.isin(bought_list, recommended_list)\n",
    "    \n",
    "    # Вычисление recall как отношение числа попаданий к общему числу покупок\n",
    "    recall = flags.sum() / len(bought_list)\n",
    "    \n",
    "    # Возвращение значения recall\n",
    "    return recall\n",
    "\n",
    "\n",
    "# Функция для расчета recall_at_k (полноты для k элементов) рекомендаций\n",
    "def recall_at_k(recommended_list, bought_list, k=5):\n",
    "    # Вызов функции recall, передавая первые k элементов recommended_list и bought_list\n",
    "    return recall(recommended_list[:k], bought_list)\n",
    "\n",
    "\n",
    "# Функция для расчета money_recall_at_k (полноты для k элементов с учетом цен) рекомендаций\n",
    "def money_recall_at_k(recommended_list, bought_list, prices_recommended, k=5):\n",
    "    # Преобразование списка покупок и списка рекомендаций к numpy массивам и ограничение списка рекомендаций до \n",
    "    # первых k элементов\n",
    "    bought_list = np.array(bought_list)\n",
    "    recommended_list = np.array(recommended_list)[:k]\n",
    "    \n",
    "    # Поиск совпадений в списках\n",
    "    flags = np.isin(bought_list, recommended_list)\n",
    "    \n",
    "    # Вычисление money_recall как отношение скалярного произведения флагов и цен рекомендаций к общей сумме покупок\n",
    "    money_recall = np.dot(flags, prices_recommended[:len(bought_list)]) / np.sum(bought_list)\n",
    "    \n",
    "    # Возвращение значения money_recall\n",
    "    return money_recall\n"
   ]
  },
  {
   "cell_type": "code",
   "execution_count": 53,
   "id": "d73b8956",
   "metadata": {},
   "outputs": [
    {
     "data": {
      "text/plain": [
       "0.6631578947368421"
      ]
     },
     "execution_count": 53,
     "metadata": {},
     "output_type": "execute_result"
    }
   ],
   "source": [
    "money_recall_at_k(recommended_list, bought_list, prices_recommended, k=5)"
   ]
  },
  {
   "cell_type": "markdown",
   "id": "1cc95987",
   "metadata": {},
   "source": [
    "### 4. AP@k\n",
    "\n",
    "AP@k - average precision at k\n",
    "\n",
    "Это метрика, используемая для оценки качества в ранжировании и рекомендательных системах. Она измеряет среднюю точность (precision) в топ-K рекомендациях.\n",
    "\n",
    "Чтобы вычислить AP@K, сначала вычисляется precision@k для каждого пользователя или запроса, где precision@k - это доля релевантных (фактических или ожидаемых) элементов среди топ-K рекомендаций.\n",
    "\n",
    "\n",
    "$$AP@k = \\frac{1}{r} \\sum{[recommended_{relevant_i}] * precision@k}$$\n",
    "\n",
    "- r - кол-во релевантных среди рекомендованных\n",
    "- Суммируем по всем релевантным товарам\n",
    "- Зависит от порядка рекомендаций\n",
    "\n",
    "\n",
    "Является полезной метрикой для оценки качества ранжирования в ситуациях, где необходимо ранжировать рекомендации, таких как информационный поиск, рекомендательные системы, и т.д. Чем выше значение AP@K, тем лучше качество рекомендаций."
   ]
  },
  {
   "cell_type": "code",
   "execution_count": 72,
   "id": "4c9672d3",
   "metadata": {},
   "outputs": [],
   "source": [
    "# Функция для расчета Average Precision at k (средней точности для k элементов)\n",
    "def ap_k(recommended_list, bought_list, k=5):\n",
    "    # Преобразование списка покупок и списка рекомендаций к numpy массивам и ограничение списка рекомендаций до \n",
    "    # первых k элементов\n",
    "    bought_list = np.array(bought_list)\n",
    "    recommended_list = np.array(recommended_list)[:k]\n",
    "    \n",
    "    # Поиск индексов релевантных элементов из recommended_list в bought_list\n",
    "    relevant_indexes = np.nonzero(np.isin(recommended_list, bought_list))[0]\n",
    "    \n",
    "    # Если релевантных элементов нет, возвращается 0\n",
    "    if len(relevant_indexes) == 0:\n",
    "        return 0\n",
    "    \n",
    "    # Количество релевантных элементов\n",
    "    amount_relevant = len(relevant_indexes)\n",
    "    \n",
    "    # Вычисление суммы точностей для каждого релевантного элемента в пределах k\n",
    "    sum_ = sum(\n",
    "        [precision_at_k(recommended_list, bought_list, k=index_relevant+1) for index_relevant in relevant_indexes]\n",
    "    )\n",
    "    \n",
    "    # Возвращение средней точности для k элементов (Average Precision at k)\n",
    "    return sum_ / amount_relevant\n"
   ]
  },
  {
   "cell_type": "code",
   "execution_count": 73,
   "id": "1858d655",
   "metadata": {},
   "outputs": [],
   "source": [
    "recommended_list = [1,2,3234,1,5,234,234,666] #id товаров\n",
    "bought_list = [1,2,3,4,5,6,7,8,9]"
   ]
  },
  {
   "cell_type": "code",
   "execution_count": 74,
   "id": "8deead9f",
   "metadata": {},
   "outputs": [
    {
     "data": {
      "text/plain": [
       "0.775"
      ]
     },
     "execution_count": 74,
     "metadata": {},
     "output_type": "execute_result"
    }
   ],
   "source": [
    "ap_k(recommended_list, bought_list, k=5)"
   ]
  },
  {
   "cell_type": "markdown",
   "id": "f35ddf9f",
   "metadata": {},
   "source": [
    "### 5. MAP@k\n",
    "\n",
    "MAP@k (Mean Average Precision@k)\n",
    "\n",
    "Это метрика, используемая для оценки качества в ранжировании и рекомендательных системах. Она представляет собой среднее значение Average Precision@k (AP@k) по всем пользователям или запросам в наборе данных.\n",
    "\n",
    "Среднее AP@k по всем юзерам\n",
    "- Показывает средневзвешенную точность рекомендаций\n",
    "\n",
    "$$MAP@k = \\frac{1}{|U|} \\sum_u{AP_k}$$\n",
    "  \n",
    "|U| - кол-во юзеров\n",
    "\n",
    "__*Таким образом, MAP@k показывает среднюю точность в топ-k рекомендаций для всего набора данных. Чем выше значение MAP@k, тем лучше качество ранжирования или рекомендаций для данной модели. MAP@k полезна для оценки общей эффективности алгоритма рекомендаций по сравнению с использованием только среднего значения одной метрики для всех пользователей.*__"
   ]
  },
  {
   "cell_type": "code",
   "execution_count": 75,
   "id": "5466e7cf",
   "metadata": {},
   "outputs": [],
   "source": [
    "# Функция для расчета Mean Average Precision at k (средней точности для k элементов для всех пользователей)\n",
    "def map_k(recommended_list, bought_list, k=5):\n",
    "    total_ap_k = []  # Создание списка для хранения всех Average Precision at k\n",
    "    u = len(recommended_list)  # Получение общего количества пользователей\n",
    "    \n",
    "    # Проход по спискам recommended_list и bought_list одновременно\n",
    "    for i, j in zip(recommended_list, bought_list):\n",
    "        bought_list = np.array(j)  # Преобразование списка покупок к массиву numpy\n",
    "        recommended_list = np.array(i)[:k]  # Ограничение списка рекомендаций до первых k элементов\n",
    "        \n",
    "        # Вычисление Average Precision at k для текущего пользователя и добавление в список\n",
    "        total_ap_k.append(ap_k(recommended_list, bought_list, k=5))\n",
    "    \n",
    "    # Вычисление Mean Average Precision at k путем деления суммы всех Average Precision at k на количество \n",
    "    # пользователей\n",
    "    result = sum(total_ap_k) / u\n",
    "    \n",
    "    # Возвращение результата\n",
    "    return result\n"
   ]
  },
  {
   "cell_type": "code",
   "execution_count": 76,
   "id": "4ade1ac0",
   "metadata": {},
   "outputs": [],
   "source": [
    "# теперь список из 3 пользователей\n",
    "recommended_list_3_users = [[143, 156, 1134, 991, 27, 1543, 3345, 533, 11, 43], \n",
    "                    [1134, 533, 14, 4, 15, 1543, 1, 99, 27, 3345],\n",
    "                    [991, 3345, 27, 533, 43, 143, 1543, 156, 1134, 11]\n",
    "                           ]\n",
    "\n",
    "bought_list_3_users = [[521, 32, 143],  # юзер 1\n",
    "                       [143, 156, 991, 43, 11], # юзер 2\n",
    "                       [1,2]] # юзер 3"
   ]
  },
  {
   "cell_type": "code",
   "execution_count": 77,
   "id": "fd954b40",
   "metadata": {},
   "outputs": [
    {
     "data": {
      "text/plain": [
       "0.3333333333333333"
      ]
     },
     "execution_count": 77,
     "metadata": {},
     "output_type": "execute_result"
    }
   ],
   "source": [
    "map_k(recommended_list_3_users, bought_list_3_users, k=5)"
   ]
  },
  {
   "cell_type": "markdown",
   "id": "04892716",
   "metadata": {},
   "source": [
    "### 6. Normalized discounted cumulative gain ( NDCG@k)\n",
    "\n",
    "Нормализованная дисконтированная совокупная прибыль\n",
    "\n",
    "Normalized Discounted Cumulative Gain (NDCG) - это метрика, используемая для оценки качества ранжирования в информационном поиске, рекомендательных системах и других задачах, где важен порядок ранжирования элементов.\n",
    "\n",
    "NDCG учитывает не только наличие релевантных элементов в топ-K рекомендациях, но и их порядок, а также оценивает значимость элементов на более высоких позициях. Эта метрика предполагает, что релевантность уменьшается с увеличением позиции элемента в списке рекомендаций.\n",
    "\n",
    "\n",
    "$$DCG = \\frac{1}{|r|} \\sum_u{\\frac{[bought fact]}{discount(i)}}$$  \n",
    "\n",
    "$discount(i) = i$ if $i <= 2$,   \n",
    "$discount(i) = log_2(i)$ if $i > 2$\n",
    "\n",
    "$DCG@5 = \\frac{1}{5}*(1 / 1 + 0 / 2 + 0 / log(3) + 1 / log(4) + 0 / log(5))$  \n",
    "$ideal DCG@5 = \\frac{1}{5}*(1 / 1 + 1 / 2 + 1 / log(3) + 1 / log(4) + 1 / log(5))$  \n",
    "\n",
    "Данную формулу можно сократить, выделив общий множитель и сократив его:\n",
    "\n",
    "$$\n",
    "\\frac{\\frac{1}{r} \\cdot \\text{dcg}}{\\frac{1}{r} \\cdot \\text{ideal_dcg}} = \\frac{\\cancel{\\frac{1}{r}} \\cdot \\text{dcg}}{\\cancel{\\frac{1}{r}} \\cdot \\text{ideal_dcg}} = \\frac{\\text{dcg}}{\\text{ideal_dcg}}\n",
    "$$\n",
    "\n",
    "Таким образом, формула $$\\frac{1/r \\cdot \\text{dcg}}{1/r \\cdot \\text{ideal_dcg}} = \\frac{\\text{dcg}}{\\text{ideal_dcg}}$$\n",
    "\n",
    "$NDCG = \\frac{DCG}{ideal DCG}$\n",
    "\n",
    "\n",
    "(!) Считаем для первых k рекоммендаций   \n",
    "(!) - существуют вариации с другими $discount(i)$  \n",
    "i - ранк рекомендованного товара  \n",
    "|r| - кол-во рекомендованных товаров \n",
    "\n",
    "$$NDCG = \\frac{DCG}{ideal DCG}$$\n",
    "\n",
    "__*Высокое значение NDCG@K (ближе к 1) указывает на более качественное ранжирование элементов. Эта метрика полезна для оценки эффективности ранжирования элементов в рекомендательных системах, где важен порядок и релевантность рекомендаций.*__"
   ]
  },
  {
   "cell_type": "code",
   "execution_count": 105,
   "id": "4d741789",
   "metadata": {},
   "outputs": [],
   "source": [
    "recommended_goods = [5,2,4,133,3,234,234,666] #id товаров\n",
    "bought_list = [1,2,3,4,5,6,7,8,9]\n",
    "k = 5"
   ]
  },
  {
   "cell_type": "code",
   "execution_count": 106,
   "id": "ff047ef4",
   "metadata": {},
   "outputs": [],
   "source": [
    "# Функция для вычисления нормализованного дисконтированного кумулятивного выигрыша (NDCG) для k элементов\n",
    "def ndcg_at_k(recommended_goods, bought_list, k):\n",
    "    dcg = 0  # Переменная для хранения значения DCG\n",
    "    ideal_dcg = 0  # Переменная для хранения значения идеального DCG\n",
    "    recommended_goods = recommended_goods[:k]  # Ограничение списка рекомендаций до первых k элементов\n",
    "    r = len(recommended_goods)  # Общее количество элементов в рекомендациях\n",
    "    \n",
    "    # Проход по списку рекомендаций до k элементов\n",
    "    for i in range(len(recommended_goods)):\n",
    "        # Вычисление релевантности элемента для DCG\n",
    "        relevance = 1 / np.log2(i + 2) if i >= 2 else 1 / (i + 1)\n",
    "        \n",
    "        # Добавление релевантности к идеальному DCG\n",
    "        ideal_dcg += relevance\n",
    "        \n",
    "        # Проверка, находится ли текущий элемент рекомендации в списке покупок\n",
    "        if recommended_goods[i] in bought_list:\n",
    "            # Если находится, добавление релевантности к DCG\n",
    "            dcg += relevance\n",
    "            \n",
    "    # Вычисление значения NDCG\n",
    "    result = dcg / ideal_dcg if dcg > 0 else 0  # NDCG = DCG / идеальный DCG, если DCG больше 0, иначе 0\n",
    "    \n",
    "    return result  # Возврат значения NDCG\n"
   ]
  },
  {
   "cell_type": "code",
   "execution_count": 107,
   "id": "6f90202b",
   "metadata": {},
   "outputs": [
    {
     "data": {
      "text/plain": [
       "0.8471438972823897"
      ]
     },
     "execution_count": 107,
     "metadata": {},
     "output_type": "execute_result"
    }
   ],
   "source": [
    "ndcg_at_k(recommended_goods, bought_list, k=5)"
   ]
  },
  {
   "cell_type": "markdown",
   "id": "5536259e",
   "metadata": {},
   "source": [
    "### 7. Mean Reciprocal Rank (MRR@)\n",
    "\n",
    "Это метрика, используемая для оценки качества в ранжировании информационного поиска, рекомендательных системах и других задачах, где необходимо ранжировать элементы по их релевантности для пользователя. \n",
    " \n",
    " MRR вычисляет среднее значение обратных значений рангов первого релевантного элемента в топ-рекомендациях для каждого запроса или пользователя. Другими словами, MRR оценивает, как быстро модель находит первый релевантный элемент для каждого запроса.\n",
    "\n",
    "\n",
    "- Считаем для первых k рекоммендаций\n",
    "- Найти ранк первого релевантного предсказания $k_u$\n",
    "- Посчитать reciprocal rank = $\\frac{1}{k_u}$\n",
    "\n",
    "$$\\text{MRR} = \\frac{1}{|Q|} \\sum_{i=1}^{|Q|} \\frac{1}{\\text{rank}_i}$$\n",
    "\n",
    "\n",
    "Где:\n",
    "$$\\begin{align*}\n",
    "|Q| & - \\text{общее количество запросов или пользователей.} \\\\\n",
    "\\end{align*}$$\n",
    "\n",
    "\n",
    "$$\\begin{align*}\n",
    "\\text{rank}_i & \\text{- ранг первого релевантного элемента для запроса или пользователя}\\ i.\n",
    "\\end{align*}$$\n",
    "\n",
    "*Если ни один из элементов не является релевантным, ранг принимается как бесконечность.*\n",
    "\n",
    "__*Высокое значение MRR указывает на то, что релевантные элементы часто находятся в начале списка рекомендаций. MRR полезен, когда важен не только факт наличия релевантных элементов, но и их порядок в ранжированном списке. Чем выше MRR, тем лучше модель ранжирования или рекомендации.*__"
   ]
  },
  {
   "cell_type": "code",
   "execution_count": 91,
   "id": "43cb2eb3",
   "metadata": {},
   "outputs": [],
   "source": [
    "# Функция для вычисления обратного ранга (Reciprocal Rank) для k элементов\n",
    "def reciprocal_rank_k(recommended_list, bought_list, k):\n",
    "    relevant_rank = 0  # Инициализация переменной для хранения ранга релевантного элемента\n",
    "    recommended_list = recommended_list[:k]  # Ограничение списка рекомендаций до первых k элементов\n",
    "    \n",
    "    # Проход по списку рекомендаций до k элементов\n",
    "    for i in range(len(recommended_list)):\n",
    "        # Проверка, находится ли текущий элемент рекомендации в списке покупок\n",
    "        if recommended_list[i] in bought_list:\n",
    "            relevant_rank = i  # Если находится, сохраняем его ранг\n",
    "            break  # Прерываем цикл, так как нашли первый релевантный элемент\n",
    "            \n",
    "    # Вычисление обратного ранга (Reciprocal Rank)\n",
    "    reciprocal_rank = 1 / relevant_rank if relevant_rank != 0 else 0  # Обратный ранг = 1 / ранг, если ранг не \n",
    "    #равен 0, иначе 0\n",
    "    \n",
    "    return reciprocal_rank  # Возврат значения обратного ранга\n"
   ]
  },
  {
   "cell_type": "code",
   "execution_count": 92,
   "id": "e81960e4",
   "metadata": {},
   "outputs": [],
   "source": [
    "# Функция для вычисления среднего обратного ранга (Mean Reciprocal Rank) для трех пользователей\n",
    "def mean_reciprocal_rank(recommended_list_3_users, bought_list_3_users, k):\n",
    "    relevant_rank_list = []  # Список для хранения обратных рангов для каждого пользователя\n",
    "    \n",
    "    # Проход по спискам рекомендаций и покупок для каждого пользователя\n",
    "    for recommended, relevant in zip(recommended_list_3_users, bought_list_3_users):\n",
    "        # Вычисление обратного ранга для текущего пользователя и добавление в список\n",
    "        relevant_rank_list.append(reciprocal_rank_k(recommended, relevant, k))\n",
    "        \n",
    "    # Вычисление среднего обратного ранга для всех пользователей\n",
    "    return np.mean(relevant_rank_list)  # Возврат среднего значения из списка обратных рангов\n"
   ]
  },
  {
   "cell_type": "code",
   "execution_count": 93,
   "id": "fc4fc8d2",
   "metadata": {},
   "outputs": [],
   "source": [
    "# Cписок из 3 пользователей\n",
    "recommended_list_3_users = [[143, 156, 1134, 991, 27, 1543, 3345, 533, 11, 43], \n",
    "                    [1134, 533, 14, 4, 15, 1543, 1, 99, 27, 3345],\n",
    "                    [991, 3345, 27, 533, 43, 143, 1543, 156, 1134, 1]\n",
    "                           ]\n",
    "\n",
    "bought_list_3_users = [[521, 32, 143],  # юзер 1\n",
    "                       [143, 553, 991, 14, 11], # юзер 2\n",
    "                       [1,2]] # юзер 3"
   ]
  },
  {
   "cell_type": "code",
   "execution_count": 96,
   "id": "f9a1ca91",
   "metadata": {},
   "outputs": [
    {
     "data": {
      "text/plain": [
       "0.16666666666666666"
      ]
     },
     "execution_count": 96,
     "metadata": {},
     "output_type": "execute_result"
    }
   ],
   "source": [
    "mean_reciprocal_rank(recommended_list_3_users, bought_list_3_users, k=4)"
   ]
  }
 ],
 "metadata": {
  "kernelspec": {
   "display_name": "Python 3 (ipykernel)",
   "language": "python",
   "name": "python3"
  },
  "language_info": {
   "codemirror_mode": {
    "name": "ipython",
    "version": 3
   },
   "file_extension": ".py",
   "mimetype": "text/x-python",
   "name": "python",
   "nbconvert_exporter": "python",
   "pygments_lexer": "ipython3",
   "version": "3.10.2"
  }
 },
 "nbformat": 4,
 "nbformat_minor": 5
}
